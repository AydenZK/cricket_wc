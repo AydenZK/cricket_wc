{
 "cells": [
  {
   "cell_type": "code",
   "execution_count": 7,
   "metadata": {},
   "outputs": [],
   "source": [
    "import pandas as pd\n",
    "import random\n",
    "import numpy as np\n",
    "import networkx as nx\n",
    "import itertools"
   ]
  },
  {
   "cell_type": "code",
   "execution_count": 2,
   "metadata": {},
   "outputs": [],
   "source": [
    "mu = pd.read_csv('matchups.csv')\n",
    "st = pd.read_csv('standings.csv')"
   ]
  },
  {
   "cell_type": "code",
   "execution_count": 3,
   "metadata": {},
   "outputs": [
    {
     "data": {
      "text/plain": [
       "[['EG', 'NZ'], ['IL', 'NZ'], ['AU', 'AF'], ['SL', 'EG']]"
      ]
     },
     "execution_count": 3,
     "metadata": {},
     "output_type": "execute_result"
    }
   ],
   "source": [
    "mud = [[row[\"Team1\"], row[\"Team2\"]] for _, row in mu.iterrows()]\n",
    "mud"
   ]
  },
  {
   "cell_type": "code",
   "execution_count": 4,
   "metadata": {},
   "outputs": [
    {
     "data": {
      "text/plain": [
       "{'NZ': 5, 'AU': 5, 'SL': 4, 'EG': 3, 'IL': 3, 'AF': 2}"
      ]
     },
     "execution_count": 4,
     "metadata": {},
     "output_type": "execute_result"
    }
   ],
   "source": [
    "std = {row[\"Team\"]: row[\"Points\"] for _, row in st.iterrows()}\n",
    "std"
   ]
  },
  {
   "cell_type": "code",
   "execution_count": 66,
   "metadata": {},
   "outputs": [],
   "source": [
    "from IPython.display import display"
   ]
  },
  {
   "cell_type": "code",
   "execution_count": 81,
   "metadata": {},
   "outputs": [],
   "source": [
    "G = nx.DiGraph()\n",
    "\n",
    "def disp_perc(x):\n",
    "    return \"{:.2%}\".format(x)\n",
    "\n",
    "class WC:\n",
    "    def __init__(self, matchups: list, standings: dict):\n",
    "        self.perm = [[int(i) for i in lst] for lst in list(itertools.product(\"01\", repeat=len(matchups)))]\n",
    "        self.matchups = matchups\n",
    "        self.standings = standings\n",
    "        \n",
    "        self.calc_trajectories()\n",
    "    \n",
    "    def win(self, team, std):\n",
    "        std[team] += 2\n",
    "        return std\n",
    "\n",
    "    def sort_std(self, traj_std):\n",
    "        points = list(traj_std.values())\n",
    "        max_val = max(points)\n",
    "        if sum([i == max_val for i in points]) > 1:\n",
    "            second_max = max_val\n",
    "        else:\n",
    "            second_max = max(filter(lambda a: a != max_val, points))\n",
    "        return \",\".join([\n",
    "            f\"{k}{v}\"\n",
    "            for k,v in \\\n",
    "            sorted(traj_std.items(), key=lambda i: i[1], reverse=True)\n",
    "            if v in (max_val, second_max)])  \n",
    "            \n",
    "    def calc_trajectories(self):\n",
    "        self.all_results = []\n",
    "        for p in self.perm:\n",
    "            traj_results = []\n",
    "            traj_std = self.standings.copy()\n",
    "            for winner, game in zip(p, self.matchups):\n",
    "                loser = int(not winner)\n",
    "                tw = game[winner]\n",
    "                tl = game[loser]\n",
    "                res = f\"{tw} > {tl}\"\n",
    "                traj_results.append(res)\n",
    "                traj_std = self.win(tw, traj_std)\n",
    "            traj_res = self.sort_std(traj_std)\n",
    "            traj_results.append(traj_res)\n",
    "            self.all_results.append(traj_results)\n",
    "\n",
    "    def get_qualifier_traj(self, team):\n",
    "        return [\n",
    "            traj\n",
    "            for traj in self.all_results\n",
    "            if team in traj[-1]\n",
    "        ]\n",
    "\n",
    "    def print_qualifier_traj(self, team):\n",
    "        valid = self.get_qualifier_traj(team)\n",
    "        v = len(valid)\n",
    "        n = len(self.all_results)\n",
    "        print(f\"WAYS FOR {team} TO QUALIFY:\")\n",
    "        print()\n",
    "        print(f\"{v} / {n} possible ways: Likelihood: {disp_perc(v/n)}\")\n",
    "        print()\n",
    "        df = pd.DataFrame(valid, columns=[f\"Game{i+1}\" for i in range(len(self.matchups))]+[\"Standings\"])\n",
    "        display(df)\n",
    "        # for traj in valid:\n",
    "        #     print(' | '.join(traj))\n"
   ]
  },
  {
   "cell_type": "code",
   "execution_count": 82,
   "metadata": {},
   "outputs": [],
   "source": [
    "wc_ga = WC(mud, std)"
   ]
  },
  {
   "cell_type": "code",
   "execution_count": 89,
   "metadata": {},
   "outputs": [
    {
     "name": "stdout",
     "output_type": "stream",
     "text": [
      "WAYS FOR SL TO QUALIFY:\n",
      "\n",
      "5 / 16 possible ways: Likelihood: 31.25%\n",
      "\n"
     ]
    },
    {
     "data": {
      "text/html": [
       "<div>\n",
       "<style scoped>\n",
       "    .dataframe tbody tr th:only-of-type {\n",
       "        vertical-align: middle;\n",
       "    }\n",
       "\n",
       "    .dataframe tbody tr th {\n",
       "        vertical-align: top;\n",
       "    }\n",
       "\n",
       "    .dataframe thead th {\n",
       "        text-align: right;\n",
       "    }\n",
       "</style>\n",
       "<table border=\"1\" class=\"dataframe\">\n",
       "  <thead>\n",
       "    <tr style=\"text-align: right;\">\n",
       "      <th></th>\n",
       "      <th>Game1</th>\n",
       "      <th>Game2</th>\n",
       "      <th>Game3</th>\n",
       "      <th>Game4</th>\n",
       "      <th>Standings</th>\n",
       "    </tr>\n",
       "  </thead>\n",
       "  <tbody>\n",
       "    <tr>\n",
       "      <th>0</th>\n",
       "      <td>EG &gt; NZ</td>\n",
       "      <td>IL &gt; NZ</td>\n",
       "      <td>AU &gt; AF</td>\n",
       "      <td>SL &gt; EG</td>\n",
       "      <td>AU7,SL6</td>\n",
       "    </tr>\n",
       "    <tr>\n",
       "      <th>1</th>\n",
       "      <td>EG &gt; NZ</td>\n",
       "      <td>IL &gt; NZ</td>\n",
       "      <td>AF &gt; AU</td>\n",
       "      <td>SL &gt; EG</td>\n",
       "      <td>SL6,NZ5,AU5,EG5,IL5</td>\n",
       "    </tr>\n",
       "    <tr>\n",
       "      <th>2</th>\n",
       "      <td>EG &gt; NZ</td>\n",
       "      <td>NZ &gt; IL</td>\n",
       "      <td>AF &gt; AU</td>\n",
       "      <td>SL &gt; EG</td>\n",
       "      <td>NZ7,SL6</td>\n",
       "    </tr>\n",
       "    <tr>\n",
       "      <th>3</th>\n",
       "      <td>NZ &gt; EG</td>\n",
       "      <td>IL &gt; NZ</td>\n",
       "      <td>AF &gt; AU</td>\n",
       "      <td>SL &gt; EG</td>\n",
       "      <td>NZ7,SL6</td>\n",
       "    </tr>\n",
       "    <tr>\n",
       "      <th>4</th>\n",
       "      <td>NZ &gt; EG</td>\n",
       "      <td>NZ &gt; IL</td>\n",
       "      <td>AF &gt; AU</td>\n",
       "      <td>SL &gt; EG</td>\n",
       "      <td>NZ9,SL6</td>\n",
       "    </tr>\n",
       "  </tbody>\n",
       "</table>\n",
       "</div>"
      ],
      "text/plain": [
       "     Game1    Game2    Game3    Game4            Standings\n",
       "0  EG > NZ  IL > NZ  AU > AF  SL > EG              AU7,SL6\n",
       "1  EG > NZ  IL > NZ  AF > AU  SL > EG  SL6,NZ5,AU5,EG5,IL5\n",
       "2  EG > NZ  NZ > IL  AF > AU  SL > EG              NZ7,SL6\n",
       "3  NZ > EG  IL > NZ  AF > AU  SL > EG              NZ7,SL6\n",
       "4  NZ > EG  NZ > IL  AF > AU  SL > EG              NZ9,SL6"
      ]
     },
     "metadata": {},
     "output_type": "display_data"
    }
   ],
   "source": [
    "wc_ga.print_qualifier_traj('SL')"
   ]
  },
  {
   "cell_type": "code",
   "execution_count": 84,
   "metadata": {},
   "outputs": [
    {
     "data": {
      "text/plain": [
       "[('NZ > EG', 'NZ > IL'),\n",
       " ('NZ > IL', 'AF > AU'),\n",
       " ('AF > AU', 'EG > SL'),\n",
       " ('EG > SL', 'NZ9,AU5,EG5')]"
      ]
     },
     "execution_count": 84,
     "metadata": {},
     "output_type": "execute_result"
    }
   ],
   "source": [
    "new = []\n",
    "for i in range(len(traj_results) - 1):\n",
    "    new.append((traj_results[i], traj_results[i+1]))\n",
    "\n",
    "new"
   ]
  },
  {
   "cell_type": "code",
   "execution_count": 28,
   "metadata": {},
   "outputs": [
    {
     "data": {
      "image/png": "[encoded data removed]",
      "text/plain": [
       "<Figure size 432x288 with 1 Axes>"
      ]
     },
     "metadata": {},
     "output_type": "display_data"
    }
   ],
   "source": [
    "graph = nx.DiGraph()\n",
    "graph.add_edges_from(new)\n",
    "nx.draw(graph, with_labels = True)"
   ]
  },
  {
   "cell_type": "code",
   "execution_count": null,
   "metadata": {},
   "outputs": [],
   "source": []
  }
 ],
 "metadata": {
  "kernelspec": {
   "display_name": "Python 3.10.4 64-bit",
   "language": "python",
   "name": "python3"
  },
  "language_info": {
   "codemirror_mode": {
    "name": "ipython",
    "version": 3
   },
   "file_extension": ".py",
   "mimetype": "text/x-python",
   "name": "python",
   "nbconvert_exporter": "python",
   "pygments_lexer": "ipython3",
   "version": "3.10.4"
  },
  "orig_nbformat": 4,
  "vscode": {
   "interpreter": {
    "hash": "f7384bc7e4e453d7b365384f012750802d483f9ae59a7d90588c6e0e0400e586"
   }
  }
 },
 "nbformat": 4,
 "nbformat_minor": 2
}
